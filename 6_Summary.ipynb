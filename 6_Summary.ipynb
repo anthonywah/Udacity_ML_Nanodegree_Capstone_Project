{
 "cells": [
  {
   "cell_type": "markdown",
   "metadata": {},
   "source": [
    "# 6) Summary\n",
    "\n",
    "In this notebook, we will take reference from the `summary_dict.json` we saved in the last notebook, analyze our result and compare our findings with our benchmark model defined in `2_benchmark_model_computation.ipynb`\n",
    "\n",
    "First, let us import the summary using json library in python."
   ]
  },
  {
   "cell_type": "code",
   "execution_count": 2,
   "metadata": {},
   "outputs": [
    {
     "data": {
      "text/html": [
       "<style>.container { width:100% !important; }</style>"
      ],
      "text/plain": [
       "<IPython.core.display.HTML object>"
      ]
     },
     "metadata": {},
     "output_type": "display_data"
    },
    {
     "data": {
      "text/html": [
       "<div>\n",
       "<style scoped>\n",
       "    .dataframe tbody tr th:only-of-type {\n",
       "        vertical-align: middle;\n",
       "    }\n",
       "\n",
       "    .dataframe tbody tr th {\n",
       "        vertical-align: top;\n",
       "    }\n",
       "\n",
       "    .dataframe thead th {\n",
       "        text-align: right;\n",
       "    }\n",
       "</style>\n",
       "<table border=\"1\" class=\"dataframe\">\n",
       "  <thead>\n",
       "    <tr style=\"text-align: right;\">\n",
       "      <th></th>\n",
       "      <th>original</th>\n",
       "      <th>more_layers</th>\n",
       "      <th>less_features</th>\n",
       "      <th>more_features</th>\n",
       "      <th>5_minutes</th>\n",
       "      <th>10_minutes</th>\n",
       "      <th>linear_learner</th>\n",
       "    </tr>\n",
       "  </thead>\n",
       "  <tbody>\n",
       "    <tr>\n",
       "      <th>train_count</th>\n",
       "      <td>313194.000000</td>\n",
       "      <td>313194.000000</td>\n",
       "      <td>313194.000000</td>\n",
       "      <td>313194.000000</td>\n",
       "      <td>313191.000000</td>\n",
       "      <td>313188.000000</td>\n",
       "      <td>313188.000000</td>\n",
       "    </tr>\n",
       "    <tr>\n",
       "      <th>train_sign_accuracy</th>\n",
       "      <td>0.485210</td>\n",
       "      <td>0.485025</td>\n",
       "      <td>0.485316</td>\n",
       "      <td>0.486162</td>\n",
       "      <td>0.470492</td>\n",
       "      <td>0.464379</td>\n",
       "      <td>0.518749</td>\n",
       "    </tr>\n",
       "    <tr>\n",
       "      <th>train_correlation</th>\n",
       "      <td>-0.018706</td>\n",
       "      <td>-0.018693</td>\n",
       "      <td>-0.011327</td>\n",
       "      <td>-0.012899</td>\n",
       "      <td>-0.031347</td>\n",
       "      <td>-0.031552</td>\n",
       "      <td>0.040273</td>\n",
       "    </tr>\n",
       "    <tr>\n",
       "      <th>train_mse</th>\n",
       "      <td>154.385640</td>\n",
       "      <td>154.259726</td>\n",
       "      <td>153.872293</td>\n",
       "      <td>153.860969</td>\n",
       "      <td>749.321619</td>\n",
       "      <td>1445.313538</td>\n",
       "      <td>1405.242407</td>\n",
       "    </tr>\n",
       "    <tr>\n",
       "      <th>test_count</th>\n",
       "      <td>208796.000000</td>\n",
       "      <td>208796.000000</td>\n",
       "      <td>208796.000000</td>\n",
       "      <td>208796.000000</td>\n",
       "      <td>208795.000000</td>\n",
       "      <td>208793.000000</td>\n",
       "      <td>208793.000000</td>\n",
       "    </tr>\n",
       "    <tr>\n",
       "      <th>test_sign_accuracy</th>\n",
       "      <td>0.483122</td>\n",
       "      <td>0.483414</td>\n",
       "      <td>0.485028</td>\n",
       "      <td>0.485982</td>\n",
       "      <td>0.465021</td>\n",
       "      <td>0.458382</td>\n",
       "      <td>0.516957</td>\n",
       "    </tr>\n",
       "    <tr>\n",
       "      <th>test_correlation</th>\n",
       "      <td>-0.022814</td>\n",
       "      <td>-0.022337</td>\n",
       "      <td>-0.014262</td>\n",
       "      <td>-0.020537</td>\n",
       "      <td>-0.044105</td>\n",
       "      <td>-0.050829</td>\n",
       "      <td>0.059406</td>\n",
       "    </tr>\n",
       "    <tr>\n",
       "      <th>test_mse</th>\n",
       "      <td>73.277936</td>\n",
       "      <td>73.207123</td>\n",
       "      <td>73.045933</td>\n",
       "      <td>72.961902</td>\n",
       "      <td>357.285031</td>\n",
       "      <td>692.100388</td>\n",
       "      <td>660.101045</td>\n",
       "    </tr>\n",
       "  </tbody>\n",
       "</table>\n",
       "</div>"
      ],
      "text/plain": [
       "                          original    more_layers  less_features  \\\n",
       "train_count          313194.000000  313194.000000  313194.000000   \n",
       "train_sign_accuracy       0.485210       0.485025       0.485316   \n",
       "train_correlation        -0.018706      -0.018693      -0.011327   \n",
       "train_mse               154.385640     154.259726     153.872293   \n",
       "test_count           208796.000000  208796.000000  208796.000000   \n",
       "test_sign_accuracy        0.483122       0.483414       0.485028   \n",
       "test_correlation         -0.022814      -0.022337      -0.014262   \n",
       "test_mse                 73.277936      73.207123      73.045933   \n",
       "\n",
       "                     more_features      5_minutes     10_minutes  \\\n",
       "train_count          313194.000000  313191.000000  313188.000000   \n",
       "train_sign_accuracy       0.486162       0.470492       0.464379   \n",
       "train_correlation        -0.012899      -0.031347      -0.031552   \n",
       "train_mse               153.860969     749.321619    1445.313538   \n",
       "test_count           208796.000000  208795.000000  208793.000000   \n",
       "test_sign_accuracy        0.485982       0.465021       0.458382   \n",
       "test_correlation         -0.020537      -0.044105      -0.050829   \n",
       "test_mse                 72.961902     357.285031     692.100388   \n",
       "\n",
       "                     linear_learner  \n",
       "train_count           313188.000000  \n",
       "train_sign_accuracy        0.518749  \n",
       "train_correlation          0.040273  \n",
       "train_mse               1405.242407  \n",
       "test_count            208793.000000  \n",
       "test_sign_accuracy         0.516957  \n",
       "test_correlation           0.059406  \n",
       "test_mse                 660.101045  "
      ]
     },
     "metadata": {},
     "output_type": "display_data"
    }
   ],
   "source": [
    "import json\n",
    "import pandas as pd\n",
    "from IPython.core.display import display, HTML\n",
    "display(HTML(\"<style>.container { width:100% !important; }</style>\"))\n",
    "\n",
    "with open('summary_dict.json', 'r') as f:\n",
    "    summary_dict = json.load(f)\n",
    "df = pd.DataFrame(summary_dict)\n",
    "display(df)"
   ]
  },
  {
   "cell_type": "markdown",
   "metadata": {},
   "source": [
    "It is not difficult to see that the result is far from satisfied based on the low accuracy in all alternatives we have tried. Also, the correlation in both test/train cases are negative. This happens to all neural network model alternatives and therefore, we can only claim that the hypothesis that MLP can predict bitcoin price movement is insignificant in this case.\n",
    "\n",
    "On a side note, it is surprising to note that LinearLearner performed better than the neural network model in terms of it's correlation and sign accuracy. However, given it's high Mean-Square-Error, we fail to claim that it is a better model among all alternatives."
   ]
  },
  {
   "cell_type": "markdown",
   "metadata": {},
   "source": [
    "Also, if we look at the result we had from the benchmark model:\n",
    "```\n",
    "                       1m_result  10m_result  60m_result\n",
    "prediction_frequency   0.081229    0.081229    0.081229\n",
    "prediction_accuracy    0.541192    0.504922    0.491749\n",
    "```\n",
    "\n",
    "The `0.541192` accruacy of 1-minute forward price movement predicted by MACD is higher than any one of the alternatives we have tried. Although MACD predicts a much less number of signals, we still fail to conclude that neural network/LinearLearner predicts better than this model."
   ]
  },
  {
   "cell_type": "markdown",
   "metadata": {},
   "source": [
    "Still, we cannnot conclude that neural network/LinearLearner won't work for this kind of prediction problem. Although the above result is discouraging, there are quite a few number of points to be considered/improved:\n",
    "\n",
    "1. Bitcoin price may behave differently during day/night session\n",
    "2. Forward Bitcoin price movement maybe clustered into different groups according to traded volume in that minute\n",
    "3. So far only price-volume related information are included as features. We can try adding other types of data (e.g. price movement in other asset classes, price of other cryptocurrencies, ... etc)\n",
    "\n",
    "Improving anyone of the above will surely give a different result. Therefore, we can still explore the possibility of predicting bitcoin price movement by MLP under these different situations."
   ]
  }
 ],
 "metadata": {
  "kernelspec": {
   "display_name": "conda_pytorch_p36",
   "language": "python",
   "name": "conda_pytorch_p36"
  },
  "language_info": {
   "codemirror_mode": {
    "name": "ipython",
    "version": 3
   },
   "file_extension": ".py",
   "mimetype": "text/x-python",
   "name": "python",
   "nbconvert_exporter": "python",
   "pygments_lexer": "ipython3",
   "version": "3.6.10"
  }
 },
 "nbformat": 4,
 "nbformat_minor": 4
}
